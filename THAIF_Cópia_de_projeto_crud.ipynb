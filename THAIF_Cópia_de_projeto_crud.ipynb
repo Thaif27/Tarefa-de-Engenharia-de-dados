{
  "nbformat": 4,
  "nbformat_minor": 0,
  "metadata": {
    "colab": {
      "name": " THAIF-Cópia de projeto-crud.ipynb",
      "provenance": [],
      "collapsed_sections": [],
      "include_colab_link": true
    },
    "kernelspec": {
      "name": "python3",
      "display_name": "Python 3"
    },
    "language_info": {
      "name": "python"
    }
  },
  "cells": [
    {
      "cell_type": "markdown",
      "metadata": {
        "id": "view-in-github",
        "colab_type": "text"
      },
      "source": [
        "<a href=\"https://colab.research.google.com/github/Thaif27/Tarefa-de-Engenharia-de-dados/blob/main/THAIF_C%C3%B3pia_de_projeto_crud.ipynb\" target=\"_parent\"><img src=\"https://colab.research.google.com/assets/colab-badge.svg\" alt=\"Open In Colab\"/></a>"
      ]
    },
    {
      "cell_type": "markdown",
      "source": [
        "# **Projeto** **Final**"
      ],
      "metadata": {
        "id": "_s36jdQpJfSy"
      }
    },
    {
      "cell_type": "markdown",
      "source": [
        "Baseado nas necessidades abaixo, desenvolva um software que implemente os seguites requisitos:\n",
        "\n",
        "* RF1 - O sistema deve conter um loop que solicite a ação do usuário sobre os seguintes aspectos:\n",
        " * 0 Para sair do sistema\n",
        " * 1 Para cadastrar um usuário\n",
        " * 2 Para consultar um usuário pelo ID\n",
        " * 3 Para listar todos os nomes cadastrados\n",
        " * 4 Para deletar um usuário pelo ID\n",
        " * 5 Para alterar um dado de um usuário ID. \n",
        "\n",
        " Esse loop deve permanecer rodando enquanto o usuário não decidir sair do programa.\n",
        "\n",
        " * RF1.1 Os dados de cada usuário devem ser armazenados em um dicionário, e todos os usuários devem ser armazenados numa lista de usuários. Este dicionário deve conter ID, nome, email e telefone;\n",
        "\n",
        "\n",
        "* RF2 - Caso o usuáro escolha o opção 0, o sistema deve imprimir na tela uma mensagem amistosa e encerrar o programa;\n",
        "\n",
        "\n",
        "* RF3 - Caso o usuário escolha a opção 1, o sistema deve solicitar que o usuário informe os dados para o cadastro\n",
        " * RF3.1 - Os dados devem ser armazenados em uma lista\n",
        " * RF3.2 - O aluno deve crial uma função para armazenar o nome do usuário na lista\n",
        "\n",
        "\n",
        "* RF4 - Caso o usuário escolha a opção 2, o sistema deve possibilitar a consulta do nome do usuário pelo ID\n",
        " * RF4.1 - os dados do usuário devem ser consultados na lista pelo ID cadastrado no dicionário \n",
        " * RF4.2 - O aluno deve criar uma função para consultar os dados do usuário\n",
        "\n",
        "\n",
        "* RF5 - Caso o usuário escolha a opção 3, o sistema deve  imprimir na tela o nome de todos os usuários cadastrados em uma mensagem amigável\n",
        "\n",
        "\n",
        "* RF6 - Caso o usuário escolha o apção 4 o sistema deve permitir que o usuário possa apagar um regisatro pelo ID\n",
        "RF6.1 - O aluno deve criar uma função para deletar os dados do usuário\n",
        "\n",
        "\n",
        "* RF7 - Caso o usuário escolha o opção 5. o sistema deve disponibilizar a opção de alterar os dados do usuário pelo seu ID\n",
        " * RF7.1 - O aluno deve criar uma função para alterar os dados do usuário\n",
        "\n",
        "Cada operaçao deve realizada por uma função específica:\n",
        "  * cadastrar()\n",
        "  * consultar(id)\n",
        "  * alterar(id) \n",
        "  * deletar(id) \n",
        "  * listar() "
      ],
      "metadata": {
        "id": "389FGcOcJeY4"
      }
    },
    {
      "cell_type": "code",
      "execution_count": null,
      "metadata": {
        "id": "ZWE5rKvYJN8-"
      },
      "outputs": [],
      "source": [
        "def cadastrar():\n",
        "  id=int(input(\"Informe o seu ID: \"))\n",
        "  nome=input(\"Informe o seu nome: \")\n",
        "  email=input(\"Informe o seu email: \")\n",
        "  fone=int(input(\"Informe o número do Telefone: \"))\n",
        "  dicionario = {\n",
        "    \"Id\" : id,\n",
        "    \"Nome\" : nome,\n",
        "    \"E-mail\" : email,\n",
        "    \"Telefone\" :fone,\n",
        "}\n",
        "  print(\"Usuário cadastrado com sucesso!\")\n",
        "  return usuarios.append(dicionario.copy())"
      ]
    },
    {
      "cell_type": "code",
      "source": [
        "def consultar(id):\n",
        "  for i in usuarios:\n",
        "    if int(id) == int(i['id']):\n",
        "       print(\"O Usuário é \", i )\n",
        "       break\n",
        "  else:\n",
        "    print(\"Usuário não foi encontrado.\")"
      ],
      "metadata": {
        "id": "nJzzOIOKA4iN"
      },
      "execution_count": null,
      "outputs": []
    },
    {
      "cell_type": "code",
      "source": [
        "def listar():\n",
        "  if len(usuarios) != 0:\n",
        "    print(\"Lista de Usuários Cadastrados no Sistema:\", usuarios)\n",
        "  else:\n",
        "    print(\"A lista está vazia.\")"
      ],
      "metadata": {
        "id": "DfKWCwV1YNb-"
      },
      "execution_count": null,
      "outputs": []
    },
    {
      "cell_type": "code",
      "source": [
        "def deletar(id):\n",
        "   for i in usuarios:\n",
        "     if int(id) == int(i['Id']):\n",
        "       usuarios.remove(i)\n",
        "       print(\"Usuário deletado.\")\n",
        "       break\n",
        "   else:\n",
        "    print(\"Usuário não identificado.\")"
      ],
      "metadata": {
        "id": "ahJHZj3RYRDe"
      },
      "execution_count": null,
      "outputs": []
    },
    {
      "cell_type": "code",
      "source": [
        "def alterar(id):\n",
        "  for i in usuarios:\n",
        "    if int(id) == int(i['Id']):\n",
        "      i['Nome'] = input(\"Informe  seu Nome: \")\n",
        "      i['Id'] = int(input(\"Informe um novo id: \"))\n",
        "      i['E-mail'] = input(\"Informe um novo email: \")\n",
        "      i['Telefone'] = int(input(\"Informe um novo telefone: \"))\n",
        "      print(\"Alteração realizada com sucesso!\")\n",
        "      break\n",
        "  else:\n",
        "    print(\"Usuário não identificado.\")"
      ],
      "metadata": {
        "id": "nf4p2AfKYRLD"
      },
      "execution_count": null,
      "outputs": []
    },
    {
      "cell_type": "code",
      "source": [
        ""
      ],
      "metadata": {
        "id": "4vu6780pYqDu"
      },
      "execution_count": null,
      "outputs": []
    },
    {
      "cell_type": "code",
      "source": [
        "usuarios = []\n",
        "sair = False\n",
        "while sair == False:\n",
        "  print(\"\"\"\\n Escolha uma das opções a Seguir:\n",
        " 0 - Para sair do sistema\n",
        " 1 - Para cadastrar um usuário\n",
        " 2 - Para consultar um usuário pelo ID\n",
        " 3 - Para listar todos os nomes cadastrados\n",
        " 4 - Para deletar um usuário pelo ID\n",
        " 5 - Para alterar um dado de um usuário ID.\n",
        " \"\"\")\n",
        "  escolha = int(input())\n",
        "  if escolha == 0:\n",
        "    sair = True\n",
        "    print(\"Encerrando e Saindo do Sistema, Agradecemos a prefêrencia, até a Próxima.\")\n",
        "  elif escolha == 1:\n",
        "    print(\"Cadastre-se: \")\n",
        "    cadastrar()\n",
        "  elif escolha == 2:\n",
        "    id=input(\"Informe o id que irá  consultar: \")\n",
        "    consultar(id)\n",
        "  elif escolha == 3:\n",
        "    print(\"listando: \")\n",
        "    listar()\n",
        "  elif escolha == 4:\n",
        "    id=input(\"Informe o id que deseja deletar:\")\n",
        "    deletar(id) \n",
        "  elif escolha == 5:\n",
        "    id=input(\"Digite o id que deseja alterar:\")\n",
        "    alterar(id) \n",
        "  else:\n",
        "    print(\"Opção inválida, escolha outra opção ou insira 0 para sair\")"
      ],
      "metadata": {
        "id": "xlBWAcuFA92S",
        "colab": {
          "base_uri": "https://localhost:8080/"
        },
        "outputId": "fdafedbb-9fb4-4540-df42-b7cc224c3079"
      },
      "execution_count": null,
      "outputs": [
        {
          "output_type": "stream",
          "name": "stdout",
          "text": [
            "\n",
            " Escolha uma das opções a Seguir:\n",
            " 0 - Para sair do sistema\n",
            " 1 - Para cadastrar um usuário\n",
            " 2 - Para consultar um usuário pelo ID\n",
            " 3 - Para listar todos os nomes cadastrados\n",
            " 4 - Para deletar um usuário pelo ID\n",
            " 5 - Para alterar um dado de um usuário ID.\n",
            " \n",
            "0\n",
            "Encerrando e Saindo do Sistema, Agradecemos a prefêrencia, até a Próxima.\n"
          ]
        }
      ]
    }
  ]
}